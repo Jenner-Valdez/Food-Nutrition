{
 "cells": [
  {
   "cell_type": "markdown",
   "metadata": {},
   "source": [
    "Food and Nutritional Facts"
   ]
  },
  {
   "cell_type": "code",
   "execution_count": 1,
   "metadata": {},
   "outputs": [
    {
     "ename": "ModuleNotFoundError",
     "evalue": "No module named 'pandas'",
     "output_type": "error",
     "traceback": [
      "\u001b[0;31m---------------------------------------------------------------------------\u001b[0m",
      "\u001b[0;31mModuleNotFoundError\u001b[0m                       Traceback (most recent call last)",
      "Cell \u001b[0;32mIn[1], line 2\u001b[0m\n\u001b[1;32m      1\u001b[0m \u001b[38;5;66;03m#import all the libraries\u001b[39;00m\n\u001b[0;32m----> 2\u001b[0m \u001b[38;5;28;01mimport\u001b[39;00m \u001b[38;5;21;01mpandas\u001b[39;00m \u001b[38;5;28;01mas\u001b[39;00m \u001b[38;5;21;01mpd\u001b[39;00m\n\u001b[1;32m      3\u001b[0m \u001b[38;5;28;01mimport\u001b[39;00m \u001b[38;5;21;01mnumpy\u001b[39;00m \u001b[38;5;28;01mas\u001b[39;00m \u001b[38;5;21;01mnp\u001b[39;00m\n\u001b[1;32m      4\u001b[0m \u001b[38;5;28;01mimport\u001b[39;00m \u001b[38;5;21;01mmatplotlib\u001b[39;00m\u001b[38;5;21;01m.\u001b[39;00m\u001b[38;5;21;01mpyplot\u001b[39;00m \u001b[38;5;28;01mas\u001b[39;00m \u001b[38;5;21;01mplt\u001b[39;00m\n",
      "\u001b[0;31mModuleNotFoundError\u001b[0m: No module named 'pandas'"
     ]
    }
   ],
   "source": [
    "#import all the libraries\n",
    "import pandas as pd\n",
    "import numpy as np\n",
    "import matplotlib.pyplot as plt\n",
    "import seaborn as sns\n",
    "import os"
   ]
  },
  {
   "cell_type": "code",
   "execution_count": null,
   "metadata": {},
   "outputs": [],
   "source": [
    "#Read all the libraries and assign them to a variable for easy access\n",
    "food_1 = 'C:/Users/valde/Desktop/Tripleten/Food_Nutrition_Dataset/Food_Nutrition/Datasets/FOOD-DATA-GROUP1.csv'\n",
    "food_2 = 'C:/Users/valde/Desktop/Tripleten/Food_Nutrition_Dataset/Food_Nutrition/Datasets/FOOD-DATA-GROUP2.csv'\n",
    "food_3 = 'C:/Users/valde/Desktop/Tripleten/Food_Nutrition_Dataset/Food_Nutrition/Datasets/FOOD-DATA-GROUP3.csv'\n",
    "food_4 = 'C:/Users/valde/Desktop/Tripleten/Food_Nutrition_Dataset/Food_Nutrition/Datasets/FOOD-DATA-GROUP4.csv'\n",
    "food_5 = 'C:/Users/valde/Desktop/Tripleten/Food_Nutrition_Dataset/Food_Nutrition/Datasets/FOOD-DATA-GROUP5.csv'"
   ]
  },
  {
   "cell_type": "code",
   "execution_count": null,
   "metadata": {},
   "outputs": [],
   "source": [
    "#Read libraries\n",
    "food_1 = pd.read_csv(food_1)\n",
    "food_2 = pd.read_csv(food_2)\n",
    "food_3 = pd.read_csv(food_3)\n",
    "food_4 = pd.read_csv(food_4)\n",
    "food_5 = pd.read_csv(food_5)"
   ]
  },
  {
   "cell_type": "markdown",
   "metadata": {},
   "source": [
    "The following code will clean the \"food_1\" dataset"
   ]
  },
  {
   "cell_type": "code",
   "execution_count": null,
   "metadata": {},
   "outputs": [],
   "source": [
    "#Print the information of the dataset\n",
    "food_1.info()"
   ]
  },
  {
   "cell_type": "code",
   "execution_count": null,
   "metadata": {},
   "outputs": [],
   "source": [
    "#Print 1st and 2nd columns head as they don't have actual names to check for information and confirm data types\n",
    "display(food_1[['Unnamed: 0.1', 'Unnamed: 0']].sample(5))"
   ]
  },
  {
   "cell_type": "markdown",
   "metadata": {},
   "source": [
    "First and second column are the item number, both are the same. Second column will be removed and first one will be renamed to Item number."
   ]
  },
  {
   "cell_type": "code",
   "execution_count": null,
   "metadata": {},
   "outputs": [],
   "source": [
    "#Remove first column\n",
    "food_1 = food_1.drop(columns=['Unnamed: 0'])"
   ]
  },
  {
   "cell_type": "code",
   "execution_count": null,
   "metadata": {},
   "outputs": [],
   "source": [
    "#Change name of first column to item number\n",
    "food_1.rename(columns={'Unnamed: 0.1':'Item number'}, inplace=True)"
   ]
  },
  {
   "cell_type": "code",
   "execution_count": null,
   "metadata": {},
   "outputs": [],
   "source": [
    "#Check for missing values\n",
    "food_1.isnull().sum()"
   ]
  },
  {
   "cell_type": "markdown",
   "metadata": {},
   "source": [
    "None are missing, move on to next"
   ]
  },
  {
   "cell_type": "code",
   "execution_count": null,
   "metadata": {},
   "outputs": [],
   "source": [
    "#Check the food column to see if any food items are duplicated\n",
    "duplicates = food_1['food'].duplicated()\n",
    "\n",
    "# Check if there are any duplicates\n",
    "if duplicates.any():\n",
    "    print(\"There are duplicates in the 'food' column.\")\n",
    "else:\n",
    "    print(\"No duplicates found in the 'food' column.\")"
   ]
  },
  {
   "cell_type": "code",
   "execution_count": null,
   "metadata": {},
   "outputs": [],
   "source": [
    "#find number of duplicated values and remove them if any are found\n",
    "print(food_1.duplicated().sum())"
   ]
  },
  {
   "cell_type": "markdown",
   "metadata": {},
   "source": [
    "None are duplicated, move on to next"
   ]
  },
  {
   "cell_type": "code",
   "execution_count": null,
   "metadata": {},
   "outputs": [],
   "source": [
    "#check for values to be correct and properly display\n",
    "display(food_1.sample(5))"
   ]
  },
  {
   "cell_type": "markdown",
   "metadata": {},
   "source": [
    "The following code will clean the \"food_2\" dataset"
   ]
  },
  {
   "cell_type": "code",
   "execution_count": null,
   "metadata": {},
   "outputs": [],
   "source": [
    "#Print the information of the dataset\n",
    "food_2.info()"
   ]
  },
  {
   "cell_type": "code",
   "execution_count": null,
   "metadata": {},
   "outputs": [],
   "source": [
    "#Print 1st and 2nd columns head as they don't have actual names to check for information and confirm data types\n",
    "display(food_2[['Unnamed: 0.1', 'Unnamed: 0']].sample(5))"
   ]
  },
  {
   "cell_type": "markdown",
   "metadata": {},
   "source": [
    "First and second column are the item number, both are the same. Second column will be removed and first one will be renamed to Item number."
   ]
  },
  {
   "cell_type": "code",
   "execution_count": null,
   "metadata": {},
   "outputs": [],
   "source": [
    "#Remove first column\n",
    "food_2 = food_2.drop(columns=['Unnamed: 0'])"
   ]
  },
  {
   "cell_type": "code",
   "execution_count": null,
   "metadata": {},
   "outputs": [],
   "source": [
    "#Change name of first column to item number\n",
    "food_2.rename(columns={'Unnamed: 0.1':'Item number'}, inplace=True)"
   ]
  },
  {
   "cell_type": "code",
   "execution_count": null,
   "metadata": {},
   "outputs": [],
   "source": [
    "#Check for missing values\n",
    "food_2.isnull().sum()"
   ]
  },
  {
   "cell_type": "markdown",
   "metadata": {},
   "source": [
    "None are missing, move on to next"
   ]
  },
  {
   "cell_type": "code",
   "execution_count": null,
   "metadata": {},
   "outputs": [],
   "source": [
    "#Check the food column to see if any food items are duplicated\n",
    "duplicates = food_2['food'].duplicated()\n",
    "\n",
    "# Check if there are any duplicates\n",
    "if duplicates.any():\n",
    "    print(\"There are duplicates in the 'food' column.\")\n",
    "else:\n",
    "    print(\"No duplicates found in the 'food' column.\")"
   ]
  },
  {
   "cell_type": "code",
   "execution_count": null,
   "metadata": {},
   "outputs": [],
   "source": [
    "#find number of duplicated values and remove them if any are found\n",
    "print(food_2.duplicated().sum())"
   ]
  },
  {
   "cell_type": "markdown",
   "metadata": {},
   "source": [
    "None are duplicate, move on to next"
   ]
  },
  {
   "cell_type": "code",
   "execution_count": null,
   "metadata": {},
   "outputs": [],
   "source": [
    "#check for values to be correct and properly display\n",
    "display(food_1.sample(5))"
   ]
  },
  {
   "cell_type": "markdown",
   "metadata": {},
   "source": [
    "The following code will clean the \"food_3\" dataset"
   ]
  },
  {
   "cell_type": "code",
   "execution_count": null,
   "metadata": {},
   "outputs": [],
   "source": [
    "#Print the information of the dataset\n",
    "food_3.info()"
   ]
  },
  {
   "cell_type": "code",
   "execution_count": null,
   "metadata": {},
   "outputs": [],
   "source": [
    "#Print 1st and 2nd columns head as they don't have actual names to check for information and confirm data types\n",
    "display(food_3[['Unnamed: 0.1', 'Unnamed: 0']].sample(5))"
   ]
  },
  {
   "cell_type": "markdown",
   "metadata": {},
   "source": [
    "First and second columns are the item number, both are the same. Second column will be removed and first one will be renamed to Item Number."
   ]
  },
  {
   "cell_type": "code",
   "execution_count": null,
   "metadata": {},
   "outputs": [],
   "source": [
    "#Remove first column\n",
    "food_3 = food_3.drop(columns=['Unnamed: 0'])"
   ]
  },
  {
   "cell_type": "code",
   "execution_count": null,
   "metadata": {},
   "outputs": [],
   "source": [
    "#Change name of first column to item number\n",
    "food_3.rename(columns={'Unnamed: 0.1':'Item number'}, inplace=True)"
   ]
  },
  {
   "cell_type": "code",
   "execution_count": null,
   "metadata": {},
   "outputs": [],
   "source": [
    "#Check for missing values\n",
    "food_3.isnull().sum()"
   ]
  },
  {
   "cell_type": "markdown",
   "metadata": {},
   "source": [
    "None are missing, move on next"
   ]
  },
  {
   "cell_type": "code",
   "execution_count": null,
   "metadata": {},
   "outputs": [],
   "source": [
    "#Check the food column to see if any food items are duplicated\n",
    "duplicates = food_3['food'].duplicated()\n",
    "\n",
    "# Check if there are any duplicates\n",
    "if duplicates.any():\n",
    "    print(\"There are duplicates in the 'food' column.\")\n",
    "else:\n",
    "    print(\"No duplicates found in the 'food' column.\")"
   ]
  },
  {
   "cell_type": "code",
   "execution_count": null,
   "metadata": {},
   "outputs": [],
   "source": [
    "#Find number of duplicated values and remove them if any are found\n",
    "print(food_3.duplicated().sum())"
   ]
  },
  {
   "cell_type": "markdown",
   "metadata": {},
   "source": [
    "None are duplicate, move on to next"
   ]
  },
  {
   "cell_type": "code",
   "execution_count": null,
   "metadata": {},
   "outputs": [],
   "source": [
    "#Check for values to be correct and properly display\n",
    "display(food_3.sample(5))"
   ]
  },
  {
   "cell_type": "markdown",
   "metadata": {},
   "source": [
    "The following code will clean the \"food_4\" dataset"
   ]
  },
  {
   "cell_type": "code",
   "execution_count": null,
   "metadata": {},
   "outputs": [],
   "source": [
    "#Print the information of the dataset\n",
    "food_4.info()"
   ]
  },
  {
   "cell_type": "code",
   "execution_count": null,
   "metadata": {},
   "outputs": [],
   "source": [
    "#Print 1st and 2nd columns head as they don't have actual names to check for information and confirm data types\n",
    "display(food_4[['Unnamed: 0.1', 'Unnamed: 0']].sample(5))"
   ]
  },
  {
   "cell_type": "markdown",
   "metadata": {},
   "source": [
    "First and second columns are the item number, both are the same. Second column will be removed and first one will be renamed to item number."
   ]
  },
  {
   "cell_type": "code",
   "execution_count": null,
   "metadata": {},
   "outputs": [],
   "source": [
    "#Remove first column\n",
    "food_4 = food_4.drop(columns=['Unnamed: 0'])"
   ]
  },
  {
   "cell_type": "code",
   "execution_count": null,
   "metadata": {},
   "outputs": [],
   "source": [
    "#Change name of first column to item number\n",
    "food_4.rename(columns={'Unnamed: 0.1':'Item number'}, inplace=True)"
   ]
  },
  {
   "cell_type": "code",
   "execution_count": null,
   "metadata": {},
   "outputs": [],
   "source": [
    "#Check for missing values\n",
    "food_4.isnull().sum()"
   ]
  },
  {
   "cell_type": "markdown",
   "metadata": {},
   "source": [
    "None are missing, move on to next"
   ]
  },
  {
   "cell_type": "code",
   "execution_count": null,
   "metadata": {},
   "outputs": [],
   "source": [
    "#Check the food column to see if any food items are duplicated\n",
    "duplicates = food_4['food'].duplicated()\n",
    "\n",
    "# Check if there are any duplicates\n",
    "if duplicates.any():\n",
    "    print(\"There are duplicates in the 'food' column.\")\n",
    "else:\n",
    "    print(\"No duplicates found in the 'food' column.\")"
   ]
  },
  {
   "cell_type": "code",
   "execution_count": null,
   "metadata": {},
   "outputs": [],
   "source": [
    "#Find number of duplicated values and remove them if any are found\n",
    "print(food_4.duplicated().sum())"
   ]
  },
  {
   "cell_type": "markdown",
   "metadata": {},
   "source": [
    "None are duplicated, move on to next"
   ]
  },
  {
   "cell_type": "code",
   "execution_count": null,
   "metadata": {},
   "outputs": [],
   "source": [
    "#Check for values to be correct any properly display\n",
    "display(food_4.sample(5))"
   ]
  },
  {
   "cell_type": "markdown",
   "metadata": {},
   "source": [
    "The following code will clean the \"food_5\" dataset"
   ]
  },
  {
   "cell_type": "code",
   "execution_count": null,
   "metadata": {},
   "outputs": [],
   "source": [
    "#Print the information of the dataset\n",
    "food_5.info()"
   ]
  },
  {
   "cell_type": "code",
   "execution_count": null,
   "metadata": {},
   "outputs": [],
   "source": [
    "#Print 1st and 2nd columns head as they don't have actual names to check for information and confirm data types\n",
    "display(food_5[['Unnamed: 0.1', 'Unnamed: 0']].sample(5))"
   ]
  },
  {
   "cell_type": "markdown",
   "metadata": {},
   "source": [
    "First and second columns are the item number, both are the same. Second column will be removed and first one will be renamed to Item Number."
   ]
  },
  {
   "cell_type": "code",
   "execution_count": null,
   "metadata": {},
   "outputs": [],
   "source": [
    "#Remove first column\n",
    "food_5 = food_5.drop(columns=['Unnamed: 0'])"
   ]
  },
  {
   "cell_type": "code",
   "execution_count": null,
   "metadata": {},
   "outputs": [],
   "source": [
    "#Change name of first column to item number\n",
    "food_5.rename(columns={'Unnamed: 0.1':'Item number'}, inplace=True)"
   ]
  },
  {
   "cell_type": "code",
   "execution_count": null,
   "metadata": {},
   "outputs": [],
   "source": [
    "#Check for missing values\n",
    "food_5.isnull().sum()"
   ]
  },
  {
   "cell_type": "markdown",
   "metadata": {},
   "source": [
    "None are missing, move on next"
   ]
  },
  {
   "cell_type": "code",
   "execution_count": null,
   "metadata": {},
   "outputs": [],
   "source": [
    "#Check the food column to see if any food items are duplicated\n",
    "duplicates = food_5['food'].duplicated()\n",
    "\n",
    "# Check if there are any duplicates\n",
    "if duplicates.any():\n",
    "    print(\"There are duplicates in the 'food' column.\")\n",
    "else:\n",
    "    print(\"No duplicates found in the 'food' column.\")"
   ]
  },
  {
   "cell_type": "code",
   "execution_count": null,
   "metadata": {},
   "outputs": [],
   "source": [
    "#Find number of duplicated values and remove them if any are found\n",
    "print(food_5.duplicated().sum())"
   ]
  },
  {
   "cell_type": "markdown",
   "metadata": {},
   "source": [
    "None are duplicate, move on to next"
   ]
  },
  {
   "cell_type": "code",
   "execution_count": null,
   "metadata": {},
   "outputs": [],
   "source": [
    "#Check for values to be correct and properly display\n",
    "display(food_5.sample(5))"
   ]
  },
  {
   "cell_type": "markdown",
   "metadata": {},
   "source": [
    "### Top 20 Products with the most calories"
   ]
  },
  {
   "cell_type": "code",
   "execution_count": null,
   "metadata": {},
   "outputs": [],
   "source": [
    "#Combine all datasets into one\n",
    "combined_food_df = pd.concat([food_1, food_2, food_3, food_4, food_5], ignore_index=True)"
   ]
  },
  {
   "cell_type": "code",
   "execution_count": null,
   "metadata": {},
   "outputs": [],
   "source": [
    "#Sort the combine dataframe by \"Caloric value\" in decending order and get the top 20 items\n",
    "top_20_calories = combined_food_df.sort_values(by='Caloric Value', ascending=False).head(20)"
   ]
  },
  {
   "cell_type": "code",
   "execution_count": null,
   "metadata": {},
   "outputs": [],
   "source": [
    "top_20_calories[['food', 'Caloric Value']]"
   ]
  },
  {
   "cell_type": "code",
   "execution_count": null,
   "metadata": {},
   "outputs": [],
   "source": [
    "#Filter out items that have \"raw\" or \"oil\" in their food name\n",
    "filtered_food_df = combined_food_df[~combined_food_df['food'].str.contains('raw|oil', case=False)]"
   ]
  },
  {
   "cell_type": "code",
   "execution_count": null,
   "metadata": {},
   "outputs": [],
   "source": [
    "#Sort the filtered dataframe by \"Caloric Value\" in descending order and get the top 20 items\n",
    "top_20_filtered_calories = filtered_food_df.sort_values(by='Caloric Value', ascending=False).head(20)"
   ]
  },
  {
   "cell_type": "code",
   "execution_count": null,
   "metadata": {},
   "outputs": [],
   "source": [
    "#Display the columns \"food\" and \"Caloric value\"\n",
    "top_20_filtered_calories[['food', 'Caloric Value']]"
   ]
  },
  {
   "cell_type": "code",
   "execution_count": null,
   "metadata": {},
   "outputs": [],
   "source": [
    "#Create a graph with the top 20 items with most calories exclusing \"raw\" and \"oil\"ArithmeticError\n",
    "plt.figure(figsize=(10, 8))\n",
    "plt.barh(top_20_filtered_calories['food'], top_20_filtered_calories['Caloric Value'], color='skyblue')\n",
    "plt.xlabel('Caloric Value')\n",
    "plt.ylabel('Food Item')\n",
    "plt.title('Top 20 Food Items with Most Calories (Excluding \"raw\" and \"oil\")')\n",
    "plt.gca().invert_yaxis()  # To display the highest value at the top\n",
    "plt.show()"
   ]
  },
  {
   "cell_type": "markdown",
   "metadata": {},
   "source": [
    "As expected some of the top foods with the most calories contain pork, chicken or beed in some kind. According to our data a whole coconut contains nearly 3500 calories."
   ]
  },
  {
   "cell_type": "markdown",
   "metadata": {},
   "source": [
    "### Cheese with most calories"
   ]
  },
  {
   "cell_type": "code",
   "execution_count": null,
   "metadata": {},
   "outputs": [],
   "source": [
    "#Filter the dataframe \"food_1\" to find items that contain exactly two words\n",
    "two_word_cheese = food_1[food_1['food'].str.split().apply(len) == 2]"
   ]
  },
  {
   "cell_type": "code",
   "execution_count": null,
   "metadata": {},
   "outputs": [],
   "source": [
    "# Further filter the dataframe to only include items that have \"cheese\" as a standalone word in their \"food\" name\n",
    "cheeses = two_word_cheese[two_word_cheese['food'].str.contains(r'\\bcheese\\b', case=False)]"
   ]
  },
  {
   "cell_type": "code",
   "execution_count": null,
   "metadata": {},
   "outputs": [],
   "source": [
    "#Sort by 'Caloric Value' in descending order and get the top 10 cheeses\n",
    "top_10_cheeses = cheeses.sort_values(by='Caloric Value', ascending=False).head(10)"
   ]
  },
  {
   "cell_type": "code",
   "execution_count": null,
   "metadata": {},
   "outputs": [],
   "source": [
    "#Display the columns \"food\" and \"Caloric value\"\n",
    "top_10_cheeses[['food', 'Caloric Value']]"
   ]
  },
  {
   "cell_type": "code",
   "execution_count": null,
   "metadata": {},
   "outputs": [],
   "source": [
    "#Create a graph the top 10 cheese that contain the most calories\n",
    "fig, ax = plt.subplots(figsize=(10, 8))\n",
    "colors = plt.cm.viridis(np.linspace(0, 1, len(top_10_cheeses)))\n",
    "bars = ax.barh(top_10_cheeses['food'], top_10_cheeses['Caloric Value'], color=colors)\n",
    "\n",
    "#Add labels and titles\n",
    "ax.set_xlabel('Caloric Value')\n",
    "ax.set_ylabel('Food Item')\n",
    "ax.set_title('Top 10 Cheeses that Contain the Most Calories')\n",
    "\n",
    "#Invert the y-axis to have the highest calorie item on top\n",
    "ax.invert_yaxis()\n",
    "\n",
    "#Add the caloric value labels to the bars\n",
    "for bar in bars:\n",
    "    ax.text(\n",
    "        bar.get_width(), \n",
    "        bar.get_y() + bar.get_height() / 2, \n",
    "        f'{bar.get_width():,.0f}', \n",
    "        va='center'\n",
    "    )\n",
    "\n",
    "# Display the graph\n",
    "plt.show()"
   ]
  },
  {
   "cell_type": "markdown",
   "metadata": {},
   "source": [
    "### Products with the least amount of sodium"
   ]
  },
  {
   "cell_type": "code",
   "execution_count": null,
   "metadata": {},
   "outputs": [],
   "source": [
    "#Remove all the products that contain the name \"wine\"\n",
    "no_wine_food_df = combined_food_df[~combined_food_df['food'].str.contains('wine', case=False)]"
   ]
  },
  {
   "cell_type": "code",
   "execution_count": null,
   "metadata": {},
   "outputs": [],
   "source": [
    "#Remove all products that contain the name \"mcdonalds\"\n",
    "no_wine_or_mcdonalds_food_df = no_wine_food_df[~no_wine_food_df['food'].str.contains(\"mcdonalds\", case=False)]"
   ]
  },
  {
   "cell_type": "code",
   "execution_count": null,
   "metadata": {},
   "outputs": [],
   "source": [
    "#Further filter the dataset to include only products with at least 1 gram of protein\n",
    "filtered_food_with_protein = no_wine_or_mcdonalds_food_df[no_wine_or_mcdonalds_food_df['Protein'] >= 1]"
   ]
  },
  {
   "cell_type": "code",
   "execution_count": null,
   "metadata": {},
   "outputs": [],
   "source": [
    "#Find the top 10 items with the least amount of sodium after applying both filters\n",
    "top_10_least_sodium_with_protein = filtered_food_with_protein.sort_values(by='Sodium', ascending=True).head(10)"
   ]
  },
  {
   "cell_type": "code",
   "execution_count": null,
   "metadata": {},
   "outputs": [],
   "source": [
    "#Display a table with the top 10 with the least amount of sodium\n",
    "top_10_least_sodium_with_protein[['food', 'Sodium', 'Protein']]"
   ]
  },
  {
   "cell_type": "markdown",
   "metadata": {},
   "source": [
    "### Fruits with the least amount of sodium"
   ]
  },
  {
   "cell_type": "code",
   "execution_count": null,
   "metadata": {},
   "outputs": [],
   "source": [
    "#Filter the dataset to include only items that are fruits\n",
    "fruits_df = combined_food_df[combined_food_df['food'].str.contains('fruit|apple|banana|berry|cherry|grape|orange|melon|pear|peach|plum|pineapple|kiwi|mango|papaya', case=False)]"
   ]
  },
  {
   "cell_type": "code",
   "execution_count": null,
   "metadata": {},
   "outputs": [],
   "source": [
    "#Sort the fruits by sodium content in ascending order\n",
    "fruits_least_sodium = fruits_df.sort_values(by='Sodium', ascending=True)"
   ]
  },
  {
   "cell_type": "code",
   "execution_count": null,
   "metadata": {},
   "outputs": [],
   "source": [
    "#Display the top 10 fruits with the least sodium\n",
    "top_fruits_least_sodium = fruits_least_sodium.head(10)\n",
    "top_fruits_least_sodium[['food', 'Caloric Value', 'Sodium']]"
   ]
  },
  {
   "cell_type": "markdown",
   "metadata": {},
   "source": [
    "### Vegetarian options with Protein and Sodium"
   ]
  },
  {
   "cell_type": "code",
   "execution_count": null,
   "metadata": {},
   "outputs": [],
   "source": [
    "#Filter the dataset to include only items that contain the word \"vegetarian\"\n",
    "vegetarian_df = combined_food_df[combined_food_df['food'].str.contains('vegetarian', case=False)]"
   ]
  },
  {
   "cell_type": "code",
   "execution_count": null,
   "metadata": {},
   "outputs": [],
   "source": [
    "#Display the filtered results\n",
    "vegetarian_df[['food', 'Caloric Value', 'Protein', 'Sodium']]"
   ]
  },
  {
   "cell_type": "code",
   "execution_count": null,
   "metadata": {},
   "outputs": [],
   "source": [
    "#Filter the dataset to include only items that contain the word \"vegetarian\"\n",
    "vegetarian_df = combined_food_df[combined_food_df['food'].str.contains('vegetarian', case=False)]"
   ]
  },
  {
   "cell_type": "code",
   "execution_count": null,
   "metadata": {},
   "outputs": [],
   "source": [
    "#Set the positions and width for the bars\n",
    "bar_width = 0.25\n",
    "index = np.arange(len(vegetarian_df))"
   ]
  },
  {
   "cell_type": "code",
   "execution_count": null,
   "metadata": {},
   "outputs": [],
   "source": [
    "#Create the bar graph\n",
    "fig, ax = plt.subplots(figsize=(12, 8))\n",
    "\n",
    "#Bar for Caloric Value\n",
    "bar1 = ax.bar(index, vegetarian_df['Caloric Value'], bar_width, label='Caloric Value', color='orange')\n",
    "\n",
    "#Bar for Protein\n",
    "bar2 = ax.bar(index + bar_width, vegetarian_df['Protein'], bar_width, label='Protein', color='green')\n",
    "\n",
    "#Bar for Sodium\n",
    "bar3 = ax.bar(index + 2 * bar_width, vegetarian_df['Sodium'], bar_width, label='Sodium', color='blue')\n",
    "\n",
    "#Add labels and title\n",
    "ax.set_xlabel('Food Items', fontsize=12)\n",
    "ax.set_ylabel('Nutritional Content', fontsize=12)\n",
    "ax.set_title('Nutritional Content of Vegetarian Items', fontsize=17)\n",
    "\n",
    "#Add xticks\n",
    "ax.set_xticks(index + bar_width)\n",
    "ax.set_xticklabels(vegetarian_df['food'], rotation=0, fontsize=20)\n",
    "\n",
    "#Add legend\n",
    "ax.legend(fontsize=15)\n",
    "\n",
    "#Display the graph\n",
    "plt.tight_layout()\n",
    "plt.show()"
   ]
  },
  {
   "cell_type": "markdown",
   "metadata": {},
   "source": [
    "### Top 10 products with the most fiber"
   ]
  },
  {
   "cell_type": "code",
   "execution_count": null,
   "metadata": {},
   "outputs": [],
   "source": [
    "#Remove all products with specific criteria\n",
    "no_unwanted_items_df = combined_food_df[~combined_food_df['food'].str.contains('raw|wine|oregano|thyme', case=False)]"
   ]
  },
  {
   "cell_type": "code",
   "execution_count": null,
   "metadata": {},
   "outputs": [],
   "source": [
    "#Sort the dataset by \"Fiber\" in descending order and get the top 10 items with the most fiber\n",
    "top_10_fiber_filtered = no_unwanted_items_df.sort_values(by='Dietary Fiber', ascending=False).head(10)"
   ]
  },
  {
   "cell_type": "code",
   "execution_count": null,
   "metadata": {},
   "outputs": [],
   "source": [
    "#Display the results for the dataset\n",
    "top_10_fiber_filtered[['food', 'Dietary Fiber']]"
   ]
  },
  {
   "cell_type": "code",
   "execution_count": null,
   "metadata": {},
   "outputs": [],
   "source": [
    "#Generate a list of colors (e.g., using a colormap)\n",
    "colors = plt.cm.viridis(np.linspace(0, 1, len(top_10_fiber_filtered)))\n",
    "\n",
    "#Create a bar graph of the top 10 items with the most fiber\n",
    "fig, ax = plt.subplots(figsize=(10, 8))\n",
    "\n",
    "#Generate the bar chart with colors\n",
    "bars = ax.barh(top_10_fiber_filtered['food'], top_10_fiber_filtered['Dietary Fiber'], color=colors)\n",
    "\n",
    "#Add labels and title\n",
    "ax.set_xlabel('Dietary Fiber Content (g)')\n",
    "ax.set_ylabel('Food Item')\n",
    "ax.set_title('Top 10 Items with the Most Fiber (Excluding \"Raw\", \"Wine\", \"Oregano\", \"Thyme\")')\n",
    "\n",
    "#Invert the y-axis to have the highest fiber item at the top\n",
    "ax.invert_yaxis()\n",
    "\n",
    "#Optionally, add the fiber content labels to the bars\n",
    "for bar in bars:\n",
    "    ax.text(\n",
    "        bar.get_width(), \n",
    "        bar.get_y() + bar.get_height() / 2, \n",
    "        f'{bar.get_width():,.2f} g', \n",
    "        va='center'\n",
    "    )\n",
    "\n",
    "#Display the graph\n",
    "plt.show()"
   ]
  },
  {
   "cell_type": "code",
   "execution_count": null,
   "metadata": {},
   "outputs": [],
   "source": [
    "#Filter the dataset for products taht have 0 fat and contain at least 15mgs of protein\n",
    "high_protein_no_fat_df = combined_food_df[(combined_food_df['Fat'] == 0) & (combined_food_df['Protein'] >= 15)]\n",
    "\n",
    "#Display the result\n",
    "high_protein_no_fat_df[['food', 'Fat', 'Protein']]"
   ]
  }
 ],
 "metadata": {
  "kernelspec": {
   "display_name": "Python 3",
   "language": "python",
   "name": "python3"
  },
  "language_info": {
   "codemirror_mode": {
    "name": "ipython",
    "version": 3
   },
   "file_extension": ".py",
   "mimetype": "text/x-python",
   "name": "python",
   "nbconvert_exporter": "python",
   "pygments_lexer": "ipython3",
   "version": "3.9.6"
  }
 },
 "nbformat": 4,
 "nbformat_minor": 2
}
